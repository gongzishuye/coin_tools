{
 "cells": [
  {
   "cell_type": "markdown",
   "id": "922c2295-f580-4728-83f8-185a1d7e087a",
   "metadata": {},
   "source": [
    "# 发现价格持续拉升的币\n",
    "价格持续拉升的币，说明这个币被看好，如果这个币还处于价值洼地，那么就很有投资价值\n",
    "\n",
    "[用代码找出正在爆发的数字货币](https://zhuanlan.zhihu.com/p/439717302)"
   ]
  },
  {
   "cell_type": "code",
   "execution_count": 1,
   "id": "879de7d3-4780-4133-b4c0-550927074114",
   "metadata": {},
   "outputs": [],
   "source": [
    "import time\n",
    "import tqdm\n",
    "\n",
    "from pycoingecko import CoinGeckoAPI"
   ]
  },
  {
   "cell_type": "code",
   "execution_count": 2,
   "id": "3aa00446-deec-400e-a8df-8fc80fc35001",
   "metadata": {},
   "outputs": [],
   "source": [
    "def timestamp_to_date(time_stamp):\n",
    "    time_array = time.localtime(time_stamp//1000)\n",
    "    date = time.strftime(\"%Y-%m-%d %H:%M:%S\", time_array)\n",
    "    return date\n",
    "\n",
    "\n",
    "def date_to_timestamp(date):\n",
    "    time_array = time.strptime(date, \"%Y-%m-%d %H:%M:%S\")\n",
    "    time_stamp = int(time.mktime(time_array))\n",
    "    return time_stamp"
   ]
  },
  {
   "cell_type": "code",
   "execution_count": 3,
   "id": "c354e33d-ba93-40df-9a08-634d4cbd09b8",
   "metadata": {},
   "outputs": [],
   "source": [
    "cg = CoinGeckoAPI()\n",
    "\n",
    "\n",
    "def is_booming_coin(coin_id: int, days: str=3, vs_currency: int='usd', booimg_ratio: float=0.8, min_booming_factor: int=20):\n",
    "    '''获取过去3天内每小时coin的price数据，如果price是连续拉升的状态，则判断为booming\n",
    "    '''\n",
    "    try:\n",
    "        market_chart = cg.get_coin_market_chart_by_id(coin_id, vs_currency=vs_currency, days=days)\n",
    "    except:\n",
    "        time.sleep(60)\n",
    "        print('HTTPError, sleep 60 sec')\n",
    "        return False\n",
    "    prices = market_chart['prices']\n",
    "    # 把价格按照时间进行分block\n",
    "    prices = sorted(prices, key=lambda p: p[0])\n",
    "    \n",
    "    blocks = []\n",
    "    for idx in range(0, len(prices), 3):\n",
    "        block_prices = prices[idx: idx + 3]\n",
    "        max_price = max([price[1] for price in block_prices])\n",
    "        min_price = min([price[1] for price in block_prices])\n",
    "        blocks.append((timestamp_to_date(block_prices[0][0]), max_price, min_price))\n",
    "    \n",
    "    max_booming_factor = len(blocks) - 1\n",
    "    if max_booming_factor < min_booming_factor:\n",
    "        return False\n",
    "    \n",
    "    booming_factor = 0\n",
    "    for idx in range(len(blocks) - 1):\n",
    "        early_block = blocks[idx]\n",
    "        later_block = blocks[idx + 1]\n",
    "        if later_block[1] - early_block[1] > 0:\n",
    "            booming_factor += 1\n",
    "    if booming_factor > booimg_ratio * max_booming_factor:\n",
    "        print('Booming with factor: {}, factor_ratio: {:0.2f}'.format(booming_factor, booming_factor/max_booming_factor))\n",
    "        return True\n",
    "    return False\n",
    "\n",
    "\n",
    "interest_keys = {'market_cap_rank', 'categories', 'genesis_date', 'coingecko_rank', 'symbol', 'id'}\n",
    "def track_booming_coins(booimg_ratio):\n",
    "    '''追踪爆发\n",
    "    '''\n",
    "    coins_lst = cg.get_coins_list()\n",
    "    print('Here are {} coins in the world.'.format(len(coins_lst)))\n",
    "    \n",
    "    booming_coins = []\n",
    "    for coin in tqdm.tqdm(coins_lst[7800:]):\n",
    "        coin_master = {key: val for key, val in coin.items() if key in interest_keys}\n",
    "        coin_id = coin_master['id']\n",
    "        if is_booming_coin(coin_id, booimg_ratio=booimg_ratio):\n",
    "            booming_coins.append(coin_id)\n",
    "            print('Booming coin attrs: {}'.format(coin_master))\n",
    "        time.sleep(1.5)\n",
    "    \n",
    "    # plot booming coin\n",
    "    for coin_id in booming_coins:\n",
    "        print(coin_id)"
   ]
  },
  {
   "cell_type": "code",
   "execution_count": null,
   "id": "65999736-c401-42ff-b098-8f961249b777",
   "metadata": {},
   "outputs": [],
   "source": [
    "track_booming_coins(booimg_ratio=0.8)"
   ]
  }
 ],
 "metadata": {
  "kernelspec": {
   "display_name": "Python 3",
   "language": "python",
   "name": "python3"
  },
  "language_info": {
   "codemirror_mode": {
    "name": "ipython",
    "version": 3
   },
   "file_extension": ".py",
   "mimetype": "text/x-python",
   "name": "python",
   "nbconvert_exporter": "python",
   "pygments_lexer": "ipython3",
   "version": "3.8.8"
  }
 },
 "nbformat": 4,
 "nbformat_minor": 5
}
